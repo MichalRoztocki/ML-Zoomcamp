{
  "nbformat": 4,
  "nbformat_minor": 0,
  "metadata": {
    "colab": {
      "name": "02-airbnb.ipynb",
      "provenance": [],
      "collapsed_sections": [],
      "authorship_tag": "ABX9TyO18LooopiCKoj84Rnrt53k",
      "include_colab_link": true
    },
    "kernelspec": {
      "name": "python3",
      "display_name": "Python 3"
    },
    "language_info": {
      "name": "python"
    }
  },
  "cells": [
    {
      "cell_type": "markdown",
      "metadata": {
        "id": "view-in-github",
        "colab_type": "text"
      },
      "source": [
        "<a href=\"https://colab.research.google.com/github/MichalRoztocki/ML-Zoomcamp/blob/main/02-regression/02_airbnb.ipynb\" target=\"_parent\"><img src=\"https://colab.research.google.com/assets/colab-badge.svg\" alt=\"Open In Colab\"/></a>"
      ]
    },
    {
      "cell_type": "code",
      "metadata": {
        "id": "q7k4skplhEHO"
      },
      "source": [
        "import numpy as np\n",
        "import pandas as pd\n",
        "import seaborn as sns"
      ],
      "execution_count": 1,
      "outputs": []
    },
    {
      "cell_type": "code",
      "metadata": {
        "id": "Ujz_uGf7hWvp"
      },
      "source": [
        "data = \"https://raw.githubusercontent.com/alexeygrigorev/datasets/master/AB_NYC_2019.csv\""
      ],
      "execution_count": 2,
      "outputs": []
    },
    {
      "cell_type": "code",
      "metadata": {
        "colab": {
          "base_uri": "https://localhost:8080/"
        },
        "id": "hMPr_5eVha-o",
        "outputId": "11378b57-968d-4cdb-bb75-438e11d868a2"
      },
      "source": [
        "!wget $data -O data-week-2.csv"
      ],
      "execution_count": 3,
      "outputs": [
        {
          "output_type": "stream",
          "name": "stdout",
          "text": [
            "--2021-10-27 19:02:13--  https://raw.githubusercontent.com/alexeygrigorev/datasets/master/AB_NYC_2019.csv\n",
            "Resolving raw.githubusercontent.com (raw.githubusercontent.com)... 185.199.108.133, 185.199.109.133, 185.199.110.133, ...\n",
            "Connecting to raw.githubusercontent.com (raw.githubusercontent.com)|185.199.108.133|:443... connected.\n",
            "HTTP request sent, awaiting response... 200 OK\n",
            "Length: 7077973 (6.8M) [text/plain]\n",
            "Saving to: ‘data-week-2.csv’\n",
            "\n",
            "data-week-2.csv     100%[===================>]   6.75M  --.-KB/s    in 0.06s   \n",
            "\n",
            "2021-10-27 19:02:14 (106 MB/s) - ‘data-week-2.csv’ saved [7077973/7077973]\n",
            "\n"
          ]
        }
      ]
    },
    {
      "cell_type": "code",
      "metadata": {
        "colab": {
          "base_uri": "https://localhost:8080/",
          "height": 408
        },
        "id": "ZleiksAohku6",
        "outputId": "623f4a32-6240-40b2-8103-7fb5d232bf45"
      },
      "source": [
        "df = pd.read_csv(\"data-week-2.csv\")\n",
        "df.head()"
      ],
      "execution_count": 4,
      "outputs": [
        {
          "output_type": "execute_result",
          "data": {
            "text/html": [
              "<div>\n",
              "<style scoped>\n",
              "    .dataframe tbody tr th:only-of-type {\n",
              "        vertical-align: middle;\n",
              "    }\n",
              "\n",
              "    .dataframe tbody tr th {\n",
              "        vertical-align: top;\n",
              "    }\n",
              "\n",
              "    .dataframe thead th {\n",
              "        text-align: right;\n",
              "    }\n",
              "</style>\n",
              "<table border=\"1\" class=\"dataframe\">\n",
              "  <thead>\n",
              "    <tr style=\"text-align: right;\">\n",
              "      <th></th>\n",
              "      <th>id</th>\n",
              "      <th>name</th>\n",
              "      <th>host_id</th>\n",
              "      <th>host_name</th>\n",
              "      <th>neighbourhood_group</th>\n",
              "      <th>neighbourhood</th>\n",
              "      <th>latitude</th>\n",
              "      <th>longitude</th>\n",
              "      <th>room_type</th>\n",
              "      <th>price</th>\n",
              "      <th>minimum_nights</th>\n",
              "      <th>number_of_reviews</th>\n",
              "      <th>last_review</th>\n",
              "      <th>reviews_per_month</th>\n",
              "      <th>calculated_host_listings_count</th>\n",
              "      <th>availability_365</th>\n",
              "    </tr>\n",
              "  </thead>\n",
              "  <tbody>\n",
              "    <tr>\n",
              "      <th>0</th>\n",
              "      <td>2539</td>\n",
              "      <td>Clean &amp; quiet apt home by the park</td>\n",
              "      <td>2787</td>\n",
              "      <td>John</td>\n",
              "      <td>Brooklyn</td>\n",
              "      <td>Kensington</td>\n",
              "      <td>40.64749</td>\n",
              "      <td>-73.97237</td>\n",
              "      <td>Private room</td>\n",
              "      <td>149</td>\n",
              "      <td>1</td>\n",
              "      <td>9</td>\n",
              "      <td>2018-10-19</td>\n",
              "      <td>0.21</td>\n",
              "      <td>6</td>\n",
              "      <td>365</td>\n",
              "    </tr>\n",
              "    <tr>\n",
              "      <th>1</th>\n",
              "      <td>2595</td>\n",
              "      <td>Skylit Midtown Castle</td>\n",
              "      <td>2845</td>\n",
              "      <td>Jennifer</td>\n",
              "      <td>Manhattan</td>\n",
              "      <td>Midtown</td>\n",
              "      <td>40.75362</td>\n",
              "      <td>-73.98377</td>\n",
              "      <td>Entire home/apt</td>\n",
              "      <td>225</td>\n",
              "      <td>1</td>\n",
              "      <td>45</td>\n",
              "      <td>2019-05-21</td>\n",
              "      <td>0.38</td>\n",
              "      <td>2</td>\n",
              "      <td>355</td>\n",
              "    </tr>\n",
              "    <tr>\n",
              "      <th>2</th>\n",
              "      <td>3647</td>\n",
              "      <td>THE VILLAGE OF HARLEM....NEW YORK !</td>\n",
              "      <td>4632</td>\n",
              "      <td>Elisabeth</td>\n",
              "      <td>Manhattan</td>\n",
              "      <td>Harlem</td>\n",
              "      <td>40.80902</td>\n",
              "      <td>-73.94190</td>\n",
              "      <td>Private room</td>\n",
              "      <td>150</td>\n",
              "      <td>3</td>\n",
              "      <td>0</td>\n",
              "      <td>NaN</td>\n",
              "      <td>NaN</td>\n",
              "      <td>1</td>\n",
              "      <td>365</td>\n",
              "    </tr>\n",
              "    <tr>\n",
              "      <th>3</th>\n",
              "      <td>3831</td>\n",
              "      <td>Cozy Entire Floor of Brownstone</td>\n",
              "      <td>4869</td>\n",
              "      <td>LisaRoxanne</td>\n",
              "      <td>Brooklyn</td>\n",
              "      <td>Clinton Hill</td>\n",
              "      <td>40.68514</td>\n",
              "      <td>-73.95976</td>\n",
              "      <td>Entire home/apt</td>\n",
              "      <td>89</td>\n",
              "      <td>1</td>\n",
              "      <td>270</td>\n",
              "      <td>2019-07-05</td>\n",
              "      <td>4.64</td>\n",
              "      <td>1</td>\n",
              "      <td>194</td>\n",
              "    </tr>\n",
              "    <tr>\n",
              "      <th>4</th>\n",
              "      <td>5022</td>\n",
              "      <td>Entire Apt: Spacious Studio/Loft by central park</td>\n",
              "      <td>7192</td>\n",
              "      <td>Laura</td>\n",
              "      <td>Manhattan</td>\n",
              "      <td>East Harlem</td>\n",
              "      <td>40.79851</td>\n",
              "      <td>-73.94399</td>\n",
              "      <td>Entire home/apt</td>\n",
              "      <td>80</td>\n",
              "      <td>10</td>\n",
              "      <td>9</td>\n",
              "      <td>2018-11-19</td>\n",
              "      <td>0.10</td>\n",
              "      <td>1</td>\n",
              "      <td>0</td>\n",
              "    </tr>\n",
              "  </tbody>\n",
              "</table>\n",
              "</div>"
            ],
            "text/plain": [
              "     id  ... availability_365\n",
              "0  2539  ...              365\n",
              "1  2595  ...              355\n",
              "2  3647  ...              365\n",
              "3  3831  ...              194\n",
              "4  5022  ...                0\n",
              "\n",
              "[5 rows x 16 columns]"
            ]
          },
          "metadata": {},
          "execution_count": 4
        }
      ]
    },
    {
      "cell_type": "code",
      "metadata": {
        "colab": {
          "base_uri": "https://localhost:8080/",
          "height": 297
        },
        "id": "hy_aQbushtZV",
        "outputId": "03f00579-1afb-472b-f97d-be42ebaa6b7d"
      },
      "source": [
        "sns.histplot(df.price, bins=40)"
      ],
      "execution_count": 5,
      "outputs": [
        {
          "output_type": "execute_result",
          "data": {
            "text/plain": [
              "<matplotlib.axes._subplots.AxesSubplot at 0x7f3651ea49d0>"
            ]
          },
          "metadata": {},
          "execution_count": 5
        },
        {
          "output_type": "display_data",
          "data": {
            "image/png": "[encoded data removed]",
            "text/plain": [
              "<Figure size 432x288 with 1 Axes>"
            ]
          },
          "metadata": {
            "needs_background": "light"
          }
        }
      ]
    },
    {
      "cell_type": "code",
      "metadata": {
        "colab": {
          "base_uri": "https://localhost:8080/",
          "height": 298
        },
        "id": "tpd-j5Bc7Dxy",
        "outputId": "f9ea4065-bef0-4acd-ebfd-ddb6ab3957a9"
      },
      "source": [
        "sns.histplot(df[df.price < 4000].price, bins=100)"
      ],
      "execution_count": 6,
      "outputs": [
        {
          "output_type": "execute_result",
          "data": {
            "text/plain": [
              "<matplotlib.axes._subplots.AxesSubplot at 0x7f3653225150>"
            ]
          },
          "metadata": {},
          "execution_count": 6
        },
        {
          "output_type": "display_data",
          "data": {
            "image/png": "[encoded data removed]",
            "text/plain": [
              "<Figure size 432x288 with 1 Axes>"
            ]
          },
          "metadata": {
            "needs_background": "light"
          }
        }
      ]
    },
    {
      "cell_type": "markdown",
      "metadata": {
        "id": "Uo6MosD47_1U"
      },
      "source": [
        "The price variable has a long tail, as seen in the above histograms. This will likely be a problem for our linear regression model, so we'll have to take the logarithm of price as our target variable."
      ]
    },
    {
      "cell_type": "code",
      "metadata": {
        "colab": {
          "base_uri": "https://localhost:8080/",
          "height": 203
        },
        "id": "rXSy_EZUXZMV",
        "outputId": "6443bf72-0afa-4cad-aa10-9d744ec6dc21"
      },
      "source": [
        "features = ['latitude', 'longitude', 'price', 'minimum_nights', \n",
        "            'number_of_reviews', 'reviews_per_month', \n",
        "            'calculated_host_listings_count', 'availability_365']\n",
        "df_full = df[features]\n",
        "df_full.head()"
      ],
      "execution_count": 7,
      "outputs": [
        {
          "output_type": "execute_result",
          "data": {
            "text/html": [
              "<div>\n",
              "<style scoped>\n",
              "    .dataframe tbody tr th:only-of-type {\n",
              "        vertical-align: middle;\n",
              "    }\n",
              "\n",
              "    .dataframe tbody tr th {\n",
              "        vertical-align: top;\n",
              "    }\n",
              "\n",
              "    .dataframe thead th {\n",
              "        text-align: right;\n",
              "    }\n",
              "</style>\n",
              "<table border=\"1\" class=\"dataframe\">\n",
              "  <thead>\n",
              "    <tr style=\"text-align: right;\">\n",
              "      <th></th>\n",
              "      <th>latitude</th>\n",
              "      <th>longitude</th>\n",
              "      <th>price</th>\n",
              "      <th>minimum_nights</th>\n",
              "      <th>number_of_reviews</th>\n",
              "      <th>reviews_per_month</th>\n",
              "      <th>calculated_host_listings_count</th>\n",
              "      <th>availability_365</th>\n",
              "    </tr>\n",
              "  </thead>\n",
              "  <tbody>\n",
              "    <tr>\n",
              "      <th>0</th>\n",
              "      <td>40.64749</td>\n",
              "      <td>-73.97237</td>\n",
              "      <td>149</td>\n",
              "      <td>1</td>\n",
              "      <td>9</td>\n",
              "      <td>0.21</td>\n",
              "      <td>6</td>\n",
              "      <td>365</td>\n",
              "    </tr>\n",
              "    <tr>\n",
              "      <th>1</th>\n",
              "      <td>40.75362</td>\n",
              "      <td>-73.98377</td>\n",
              "      <td>225</td>\n",
              "      <td>1</td>\n",
              "      <td>45</td>\n",
              "      <td>0.38</td>\n",
              "      <td>2</td>\n",
              "      <td>355</td>\n",
              "    </tr>\n",
              "    <tr>\n",
              "      <th>2</th>\n",
              "      <td>40.80902</td>\n",
              "      <td>-73.94190</td>\n",
              "      <td>150</td>\n",
              "      <td>3</td>\n",
              "      <td>0</td>\n",
              "      <td>NaN</td>\n",
              "      <td>1</td>\n",
              "      <td>365</td>\n",
              "    </tr>\n",
              "    <tr>\n",
              "      <th>3</th>\n",
              "      <td>40.68514</td>\n",
              "      <td>-73.95976</td>\n",
              "      <td>89</td>\n",
              "      <td>1</td>\n",
              "      <td>270</td>\n",
              "      <td>4.64</td>\n",
              "      <td>1</td>\n",
              "      <td>194</td>\n",
              "    </tr>\n",
              "    <tr>\n",
              "      <th>4</th>\n",
              "      <td>40.79851</td>\n",
              "      <td>-73.94399</td>\n",
              "      <td>80</td>\n",
              "      <td>10</td>\n",
              "      <td>9</td>\n",
              "      <td>0.10</td>\n",
              "      <td>1</td>\n",
              "      <td>0</td>\n",
              "    </tr>\n",
              "  </tbody>\n",
              "</table>\n",
              "</div>"
            ],
            "text/plain": [
              "   latitude  longitude  ...  calculated_host_listings_count  availability_365\n",
              "0  40.64749  -73.97237  ...                               6               365\n",
              "1  40.75362  -73.98377  ...                               2               355\n",
              "2  40.80902  -73.94190  ...                               1               365\n",
              "3  40.68514  -73.95976  ...                               1               194\n",
              "4  40.79851  -73.94399  ...                               1                 0\n",
              "\n",
              "[5 rows x 8 columns]"
            ]
          },
          "metadata": {},
          "execution_count": 7
        }
      ]
    },
    {
      "cell_type": "code",
      "metadata": {
        "colab": {
          "base_uri": "https://localhost:8080/"
        },
        "id": "sDoWoXzpYNVf",
        "outputId": "ba6ba149-4f8a-482d-b144-098e59961ad0"
      },
      "source": [
        "df_full.isnull().sum()"
      ],
      "execution_count": 41,
      "outputs": [
        {
          "output_type": "execute_result",
          "data": {
            "text/plain": [
              "latitude                              0\n",
              "longitude                             0\n",
              "price                                 0\n",
              "minimum_nights                        0\n",
              "number_of_reviews                     0\n",
              "reviews_per_month                 10052\n",
              "calculated_host_listings_count        0\n",
              "availability_365                      0\n",
              "dtype: int64"
            ]
          },
          "metadata": {},
          "execution_count": 41
        }
      ]
    },
    {
      "cell_type": "markdown",
      "metadata": {
        "id": "IMpWibls-bnG"
      },
      "source": [
        "Q1: The reviews_per_month variable has 10052 missing values."
      ]
    },
    {
      "cell_type": "code",
      "metadata": {
        "colab": {
          "base_uri": "https://localhost:8080/"
        },
        "id": "vcvWlayMareL",
        "outputId": "07471fb4-79cb-4dca-c16e-dc9d109741e2"
      },
      "source": [
        "df.minimum_nights.median()"
      ],
      "execution_count": 9,
      "outputs": [
        {
          "output_type": "execute_result",
          "data": {
            "text/plain": [
              "3.0"
            ]
          },
          "metadata": {},
          "execution_count": 9
        }
      ]
    },
    {
      "cell_type": "markdown",
      "metadata": {
        "id": "56A-yxwD-qkr"
      },
      "source": [
        "Q2: Median of minimum_nights = 3.0"
      ]
    },
    {
      "cell_type": "markdown",
      "metadata": {
        "id": "XJnGmsXsJde1"
      },
      "source": [
        "## **Defining Train, Validation, Test Dataframes**"
      ]
    },
    {
      "cell_type": "code",
      "metadata": {
        "id": "uO9sFzUva3LN",
        "colab": {
          "base_uri": "https://localhost:8080/"
        },
        "outputId": "d301c572-cd50-42a4-cf63-8953851f7547"
      },
      "source": [
        "np.random.seed(42)\n",
        "idx = np.arange(len(df_full))\n",
        "np.random.shuffle(idx)\n",
        "idx"
      ],
      "execution_count": 10,
      "outputs": [
        {
          "output_type": "execute_result",
          "data": {
            "text/plain": [
              "array([  879, 44383, 15394, ..., 38158,   860, 15795])"
            ]
          },
          "metadata": {},
          "execution_count": 10
        }
      ]
    },
    {
      "cell_type": "code",
      "metadata": {
        "colab": {
          "base_uri": "https://localhost:8080/"
        },
        "id": "1CIhQs6FbGLF",
        "outputId": "4e866eb4-2d1c-48b8-e405-3600d2bc2205"
      },
      "source": [
        "n_train = round(0.6*len(df_full))\n",
        "n_val = round(0.2*len(df_full))\n",
        "n_test = len(df_full) - n_train - n_val\n",
        "\n",
        "n_train, n_val, n_test"
      ],
      "execution_count": 11,
      "outputs": [
        {
          "output_type": "execute_result",
          "data": {
            "text/plain": [
              "(29337, 9779, 9779)"
            ]
          },
          "metadata": {},
          "execution_count": 11
        }
      ]
    },
    {
      "cell_type": "code",
      "metadata": {
        "id": "v92p8KH2bHhS"
      },
      "source": [
        "df_train = df_full.iloc[idx[:n_train]]\n",
        "df_val = df_full.iloc[idx[n_train:n_train+n_val]]\n",
        "df_test = df_full.iloc[idx[n_train+n_val:]]"
      ],
      "execution_count": 13,
      "outputs": []
    },
    {
      "cell_type": "code",
      "metadata": {
        "id": "5rfXlFiCcCRG"
      },
      "source": [
        "y_train = df_train.price\n",
        "y_val = df_val.price\n",
        "y_test = df_test.price\n",
        "\n",
        "del df_train['price']\n",
        "del df_val['price']\n",
        "del df_test['price']"
      ],
      "execution_count": 14,
      "outputs": []
    },
    {
      "cell_type": "code",
      "metadata": {
        "id": "R32eRf4Fcitk"
      },
      "source": [
        "y_train = np.log1p(y_train)\n",
        "y_val = np.log1p(y_val)\n",
        "y_test = np.log1p(y_test)"
      ],
      "execution_count": 15,
      "outputs": []
    },
    {
      "cell_type": "code",
      "metadata": {
        "id": "cyHZu4iRdD3B"
      },
      "source": [
        "def train_linear_regression(X, y):\n",
        "  X = np.column_stack([np.ones(X.shape[0]), X])\n",
        "  XTX = X.T.dot(X)\n",
        "  return np.linalg.inv(XTX).dot(X.T.dot(y))"
      ],
      "execution_count": 17,
      "outputs": []
    },
    {
      "cell_type": "code",
      "metadata": {
        "id": "QsfkHk71eOAa"
      },
      "source": [
        "weights_zero_filled = train_linear_regression(df_train.fillna(0), y_train)\n",
        "weights_mean_filled = train_linear_regression(df_train.fillna(df_train.reviews_per_month.mean()), y_train)"
      ],
      "execution_count": 20,
      "outputs": []
    },
    {
      "cell_type": "code",
      "metadata": {
        "id": "MkzCbXLYewuB"
      },
      "source": [
        "def linear_regression(X, weights):\n",
        "  X = np.column_stack([np.ones(X.shape[0]), X])\n",
        "  return X.dot(weights.T)"
      ],
      "execution_count": 21,
      "outputs": []
    },
    {
      "cell_type": "code",
      "metadata": {
        "id": "cd4WXyCyf0-h"
      },
      "source": [
        "y_pred_0_val = linear_regression(df_val.fillna(0), weights_zero_filled)\n",
        "y_pred_mean_val = linear_regression(df_val.fillna(df_train.reviews_per_month.mean()), weights_mean_filled)"
      ],
      "execution_count": 22,
      "outputs": []
    },
    {
      "cell_type": "code",
      "metadata": {
        "colab": {
          "base_uri": "https://localhost:8080/"
        },
        "id": "nOO4J6DtgDbC",
        "outputId": "efb4787f-4ed0-4c80-cc3f-318a72167638"
      },
      "source": [
        "y_pred_0_val, y_pred_mean_val"
      ],
      "execution_count": 24,
      "outputs": [
        {
          "output_type": "execute_result",
          "data": {
            "text/plain": [
              "(array([4.57853272, 4.48375565, 4.73586366, ..., 4.77182321, 4.75592015,\n",
              "        4.78192005]),\n",
              " array([4.56404917, 4.47586466, 4.72706725, ..., 4.7627167 , 4.74761535,\n",
              "        4.81081466]))"
            ]
          },
          "metadata": {},
          "execution_count": 24
        }
      ]
    },
    {
      "cell_type": "code",
      "metadata": {
        "id": "CjcYwm6VggH0"
      },
      "source": [
        "def rmse(y_pred, y):\n",
        "  return np.sqrt(((y_pred-y)**2).mean())"
      ],
      "execution_count": 25,
      "outputs": []
    },
    {
      "cell_type": "code",
      "metadata": {
        "colab": {
          "base_uri": "https://localhost:8080/"
        },
        "id": "SR7NkGL5io5u",
        "outputId": "04996b65-a910-4021-9d04-934de4c237e7"
      },
      "source": [
        "print('zero-filled, rmse =', round(rmse(y_pred_0_val, y_val), 2))\n",
        "print('mean-filled, rmse = ', round(rmse(y_pred_mean_val, y_val), 2))"
      ],
      "execution_count": 28,
      "outputs": [
        {
          "output_type": "stream",
          "name": "stdout",
          "text": [
            "zero-filled, rmse = 0.64\n",
            "mean-filled, rmse =  0.64\n"
          ]
        }
      ]
    },
    {
      "cell_type": "code",
      "metadata": {
        "id": "LlCGtZihi7J_",
        "colab": {
          "base_uri": "https://localhost:8080/"
        },
        "outputId": "76cd5cd8-0a9c-4d0c-e527-8145eeb7ad04"
      },
      "source": [
        "print('zero-filled, rmse =', rmse(y_pred_0_val, y_val))\n",
        "print('mean-filled, rmse = ', rmse(y_pred_mean_val, y_val))"
      ],
      "execution_count": 27,
      "outputs": [
        {
          "output_type": "stream",
          "name": "stdout",
          "text": [
            "zero-filled, rmse = 0.6430337788657106\n",
            "mean-filled, rmse =  0.6427545031726932\n"
          ]
        }
      ]
    },
    {
      "cell_type": "markdown",
      "metadata": {
        "id": "-g4TQTQPNXbN"
      },
      "source": [
        "Q3: It looks like the mean-filled method yields only a slightly better rmse than the zero-filled method, so either method should work fine for our purposes."
      ]
    },
    {
      "cell_type": "code",
      "metadata": {
        "id": "avne5DuWNop5"
      },
      "source": [
        "def train_linear_regression_reg(X, y, r):\n",
        "  X = np.column_stack([np.ones(X.shape[0]), X])\n",
        "  XTX = X.T.dot(X)\n",
        "  XTX += r*np.eye(XTX.shape[0])\n",
        "  return np.linalg.inv(XTX).dot(X.T.dot(y))"
      ],
      "execution_count": 32,
      "outputs": []
    },
    {
      "cell_type": "markdown",
      "metadata": {
        "id": "okT6_rE4RhDY"
      },
      "source": [
        "# Regularization"
      ]
    },
    {
      "cell_type": "code",
      "metadata": {
        "id": "JiPiuxeqOgxj"
      },
      "source": [
        "reg_vals = [0, 0.000001, 0.0001, 0.001, 0.01, 0.1, 1, 5, 10]"
      ],
      "execution_count": 30,
      "outputs": []
    },
    {
      "cell_type": "code",
      "metadata": {
        "colab": {
          "base_uri": "https://localhost:8080/"
        },
        "id": "lovdGpSDOqv8",
        "outputId": "18c0c65c-c9e2-4db0-b54f-b7d825d8fed7"
      },
      "source": [
        "for r in reg_vals:\n",
        "  weights = train_linear_regression_reg(df_train.fillna(0), y_train, r)\n",
        "  y_pred_val = linear_regression(df_val.fillna(0), weights)\n",
        "  print(\"For r = {}, rmse = {}\".format(r, round(rmse(y_pred_val, y_val), 2)))"
      ],
      "execution_count": 35,
      "outputs": [
        {
          "output_type": "stream",
          "name": "stdout",
          "text": [
            "For r = 0, rmse = 0.64\n",
            "For r = 1e-06, rmse = 0.64\n",
            "For r = 0.0001, rmse = 0.64\n",
            "For r = 0.001, rmse = 0.64\n",
            "For r = 0.01, rmse = 0.66\n",
            "For r = 0.1, rmse = 0.68\n",
            "For r = 1, rmse = 0.68\n",
            "For r = 5, rmse = 0.68\n",
            "For r = 10, rmse = 0.68\n"
          ]
        }
      ]
    },
    {
      "cell_type": "markdown",
      "metadata": {
        "id": "hQy-WAItRImB"
      },
      "source": [
        "Q4: Several values of r give the lowest observed rmse, so the best r can be chosen to be 0."
      ]
    },
    {
      "cell_type": "markdown",
      "metadata": {
        "id": "W2MIunEiRl4r"
      },
      "source": [
        "# Testing Effect of Seed Value on RMSE"
      ]
    },
    {
      "cell_type": "code",
      "metadata": {
        "colab": {
          "base_uri": "https://localhost:8080/"
        },
        "id": "lPor18o2Qleh",
        "outputId": "df44b330-dd41-42d5-e39a-0813e0b82f4f"
      },
      "source": [
        "seed_val = [0, 1, 2, 3, 4, 5, 6, 7, 8, 9]\n",
        "\n",
        "rmse_scores = []\n",
        "\n",
        "for seed in seed_val:\n",
        "  np.random.seed(seed)\n",
        "  idx = np.arange(len(df_full))\n",
        "  np.random.shuffle(idx)\n",
        "  \n",
        "  df_train_seed = df_full.iloc[idx[:n_train]]\n",
        "  df_val_seed = df_full.iloc[idx[n_train:n_train+n_val]]\n",
        "  df_test_seed = df_full.iloc[idx[n_train+n_val:]]\n",
        "\n",
        "  y_train_seed = df_train_seed.price\n",
        "  y_val_seed = df_val_seed.price\n",
        "  y_test_seed = df_test_seed.price\n",
        "\n",
        "  del df_train_seed['price']\n",
        "  del df_val_seed['price']\n",
        "  del df_test_seed['price']\n",
        "\n",
        "  y_train_seed = np.log1p(y_train_seed)\n",
        "  y_val_seed = np.log1p(y_val_seed)\n",
        "  y_test_seed = np.log1p(y_test_seed)\n",
        "\n",
        "  weights_seed = train_linear_regression(df_train_seed.fillna(0), y_train_seed)\n",
        "  y_pred_val_seed = linear_regression(df_val_seed.fillna(0), weights_seed)\n",
        "\n",
        "  rmse_scores.append(rmse(y_pred_val_seed, y_val_seed))\n",
        "\n",
        "np.std(rmse_scores)"
      ],
      "execution_count": 43,
      "outputs": [
        {
          "output_type": "execute_result",
          "data": {
            "text/plain": [
              "0.007932965993554688"
            ]
          },
          "metadata": {},
          "execution_count": 43
        }
      ]
    },
    {
      "cell_type": "markdown",
      "metadata": {
        "id": "VFQwvpQjU9xY"
      },
      "source": [
        "Q5: The standard deviation of the rmse scores using different random seeds is very low, so our model is stable."
      ]
    },
    {
      "cell_type": "code",
      "metadata": {
        "colab": {
          "base_uri": "https://localhost:8080/"
        },
        "id": "s8151u4KR8yL",
        "outputId": "638a9df7-0cb1-49c3-f6c1-de8a042fd52a"
      },
      "source": [
        "np.random.seed(9)\n",
        "idx = np.arange(len(df_full))\n",
        "np.random.shuffle(idx)\n",
        "  \n",
        "df_train_final = df_full.iloc[idx[:n_train]]\n",
        "df_val_final = df_full.iloc[idx[n_train:n_train+n_val]]\n",
        "df_test_final = df_full.iloc[idx[n_train+n_val:]]\n",
        "\n",
        "df_full_train = pd.concat([df_train_final, df_val_final])\n",
        "df_full_train = df_full_train.reset_index(drop=True)\n",
        "\n",
        "y_full_train = df_full_train.price\n",
        "y_test_final = df_test_final.price\n",
        "\n",
        "del df_full_train['price']\n",
        "del df_test_final['price']\n",
        "\n",
        "y_full_train = np.log1p(y_full_train)\n",
        "y_test_final = np.log1p(y_test_final)\n",
        "\n",
        "weights_final = train_linear_regression_reg(df_full_train.fillna(0), y_full_train, 0.001)\n",
        "y_pred_test_final = linear_regression(df_test_final.fillna(0), weights_final)\n",
        "\n",
        "print(\"The final rmse on the test dataset after training on the training and validation datasets with regularization of 0.001 = {}\".format(rmse(y_pred_test_final, y_test_final)))"
      ],
      "execution_count": 46,
      "outputs": [
        {
          "output_type": "stream",
          "name": "stdout",
          "text": [
            "The final rmse on the test dataset after training on the training and validation datasets with regularization of 0.001 = 0.6452771348529895\n"
          ]
        }
      ]
    }
  ]
}